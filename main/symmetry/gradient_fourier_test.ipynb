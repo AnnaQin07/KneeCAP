{
 "cells": [
  {
   "cell_type": "code",
   "execution_count": 88,
   "metadata": {},
   "outputs": [
    {
     "name": "stderr",
     "output_type": "stream",
     "text": [
      "C:\\Users\\15741\\AppData\\Local\\Temp\\ipykernel_16160\\711208980.py:16: DeprecationWarning: Please import `center_of_mass` from the `scipy.ndimage` namespace; the `scipy.ndimage.measurements` namespace is deprecated and will be removed in SciPy 2.0.0.\n",
      "  ndimage.measurements.center_of_mass(gray)\n"
     ]
    },
    {
     "data": {
      "text/plain": [
       "(1627.2672986909547, 702.1355064921829)"
      ]
     },
     "execution_count": 88,
     "metadata": {},
     "output_type": "execute_result"
    }
   ],
   "source": [
    "import cv2\n",
    "import numpy as np\n",
    "import matplotlib.pyplot as plt\n",
    "from scipy.fftpack import fft, ifft\n",
    "from scipy import ndimage\n",
    "from PIL import ImageOps\n",
    "\n",
    "\n",
    "image_path = 'Js-IM-0039-0005.jpg'  # Replace with your image file\n",
    "\n",
    "# Load the image\n",
    "image = cv2.imread(image_path)\n",
    "\n",
    "# Convert the image to grayscale\n",
    "gray = cv2.cvtColor(image, cv2.COLOR_BGR2GRAY)\n",
    "ndimage.measurements.center_of_mass(gray)\n"
   ]
  },
  {
   "cell_type": "code",
   "execution_count": null,
   "metadata": {},
   "outputs": [],
   "source": [
    "\n",
    "# Compute the Sobel gradient in x and y directions\n",
    "grad_x = cv2.Sobel(gray, cv2.CV_64F, 1, 0, ksize=5)\n",
    "grad_y = cv2.Sobel(gray, cv2.CV_64F, 0, 1, ksize=5)\n",
    "\n",
    "# Compute the magnitude and angle of the gradients\n",
    "magnitude = np.sqrt(grad_x**2 + grad_y**2)\n",
    "angle = np.arctan2(grad_y, grad_x) * 180 / np.pi  # Convert to degrees\n",
    "\n",
    "# Normalize angle to [0, 360]\n",
    "angle[angle < 0] += 360\n",
    "angle = angle.astype('float32')\n",
    "\n",
    "angle = cv2.medianBlur(angle, 5)\n",
    "\n",
    "plt.figure(figsize=(30, 10))\n",
    "plt.hist(angle[angle > 0].ravel(), bins=720)\n",
    "plt.show()"
   ]
  },
  {
   "cell_type": "code",
   "execution_count": 80,
   "metadata": {},
   "outputs": [
    {
     "data": {
      "text/plain": [
       "<Figure size 3000x1000 with 0 Axes>"
      ]
     },
     "metadata": {},
     "output_type": "display_data"
    },
    {
     "ename": "ValueError",
     "evalue": "The truth value of an array with more than one element is ambiguous. Use a.any() or a.all()",
     "output_type": "error",
     "traceback": [
      "\u001b[1;31m---------------------------------------------------------------------------\u001b[0m",
      "\u001b[1;31mValueError\u001b[0m                                Traceback (most recent call last)",
      "Cell \u001b[1;32mIn[80], line 6\u001b[0m\n\u001b[0;32m      3\u001b[0m convolution \u001b[38;5;241m=\u001b[39m ifft(hist_fft \u001b[38;5;241m*\u001b[39m np\u001b[38;5;241m.\u001b[39mconjugate(hist_fft))\u001b[38;5;241m.\u001b[39mreal\n\u001b[0;32m      5\u001b[0m plt\u001b[38;5;241m.\u001b[39mfigure(figsize\u001b[38;5;241m=\u001b[39m(\u001b[38;5;241m30\u001b[39m, \u001b[38;5;241m10\u001b[39m))\n\u001b[1;32m----> 6\u001b[0m \u001b[43mplt\u001b[49m\u001b[38;5;241;43m.\u001b[39;49m\u001b[43mshow\u001b[49m\u001b[43m(\u001b[49m\u001b[43mhistogram\u001b[49m\u001b[38;5;241;43m.\u001b[39;49m\u001b[43mravel\u001b[49m\u001b[43m(\u001b[49m\u001b[43m)\u001b[49m\u001b[43m)\u001b[49m\n\u001b[0;32m      7\u001b[0m plt\u001b[38;5;241m.\u001b[39mshow()\n",
      "File \u001b[1;32mc:\\Users\\15741\\AppData\\Local\\Programs\\Python\\Python311\\Lib\\site-packages\\matplotlib\\pyplot.py:612\u001b[0m, in \u001b[0;36mshow\u001b[1;34m(*args, **kwargs)\u001b[0m\n\u001b[0;32m    568\u001b[0m \u001b[38;5;250m\u001b[39m\u001b[38;5;124;03m\"\"\"\u001b[39;00m\n\u001b[0;32m    569\u001b[0m \u001b[38;5;124;03mDisplay all open figures.\u001b[39;00m\n\u001b[0;32m    570\u001b[0m \n\u001b[1;32m   (...)\u001b[0m\n\u001b[0;32m    609\u001b[0m \u001b[38;5;124;03mexplicitly there.\u001b[39;00m\n\u001b[0;32m    610\u001b[0m \u001b[38;5;124;03m\"\"\"\u001b[39;00m\n\u001b[0;32m    611\u001b[0m _warn_if_gui_out_of_main_thread()\n\u001b[1;32m--> 612\u001b[0m \u001b[38;5;28;01mreturn\u001b[39;00m \u001b[43m_get_backend_mod\u001b[49m\u001b[43m(\u001b[49m\u001b[43m)\u001b[49m\u001b[38;5;241;43m.\u001b[39;49m\u001b[43mshow\u001b[49m\u001b[43m(\u001b[49m\u001b[38;5;241;43m*\u001b[39;49m\u001b[43margs\u001b[49m\u001b[43m,\u001b[49m\u001b[43m \u001b[49m\u001b[38;5;241;43m*\u001b[39;49m\u001b[38;5;241;43m*\u001b[39;49m\u001b[43mkwargs\u001b[49m\u001b[43m)\u001b[49m\n",
      "File \u001b[1;32mc:\\Users\\15741\\AppData\\Local\\Programs\\Python\\Python311\\Lib\\site-packages\\matplotlib_inline\\backend_inline.py:98\u001b[0m, in \u001b[0;36mshow\u001b[1;34m(close, block)\u001b[0m\n\u001b[0;32m     95\u001b[0m show\u001b[38;5;241m.\u001b[39m_to_draw \u001b[38;5;241m=\u001b[39m []\n\u001b[0;32m     96\u001b[0m \u001b[38;5;66;03m# only call close('all') if any to close\u001b[39;00m\n\u001b[0;32m     97\u001b[0m \u001b[38;5;66;03m# close triggers gc.collect, which can be slow\u001b[39;00m\n\u001b[1;32m---> 98\u001b[0m \u001b[38;5;28;01mif\u001b[39;00m close \u001b[38;5;129;01mand\u001b[39;00m Gcf\u001b[38;5;241m.\u001b[39mget_all_fig_managers():\n\u001b[0;32m     99\u001b[0m     matplotlib\u001b[38;5;241m.\u001b[39mpyplot\u001b[38;5;241m.\u001b[39mclose(\u001b[38;5;124m'\u001b[39m\u001b[38;5;124mall\u001b[39m\u001b[38;5;124m'\u001b[39m)\n",
      "\u001b[1;31mValueError\u001b[0m: The truth value of an array with more than one element is ambiguous. Use a.any() or a.all()"
     ]
    },
    {
     "data": {
      "text/plain": [
       "<Figure size 3000x1000 with 0 Axes>"
      ]
     },
     "metadata": {},
     "output_type": "display_data"
    }
   ],
   "source": [
    "histogram, bin_edges = np.histogram(angle[angle > 0], bins=720, range=(0, 360))\n",
    "hist_fft = fft(histogram)\n",
    "convolution = ifft(hist_fft * np.conjugate(hist_fft)).real\n",
    "\n",
    "plt.figure(figsize=(30, 10))\n",
    "plt.show(histogram.ravel())\n",
    "plt.show()"
   ]
  },
  {
   "cell_type": "code",
   "execution_count": null,
   "metadata": {},
   "outputs": [],
   "source": [
    "\n",
    "# Function to compute the gradient of the image using the Sobel operator\n",
    "def compute_gradient(image):\n",
    "    # Convert the image to grayscale\n",
    "    gray = cv2.cvtColor(image, cv2.COLOR_BGR2GRAY)\n",
    "    \n",
    "    # Compute the Sobel gradient in x and y directions\n",
    "    grad_x = cv2.Sobel(gray, cv2.CV_64F, 1, 0, ksize=5)\n",
    "    grad_y = cv2.Sobel(gray, cv2.CV_64F, 0, 1, ksize=5)\n",
    "    \n",
    "    # Compute the magnitude and angle of the gradients\n",
    "    magnitude = np.sqrt(grad_x**2 + grad_y**2)\n",
    "    angle = np.arctan2(grad_y, grad_x) * 180 / np.pi  # Convert to degrees\n",
    "    \n",
    "    # Normalize angle to [0, 360]\n",
    "    angle[angle < 0] += 360\n",
    "    \n",
    "    return magnitude, angle\n",
    "\n",
    "# Function to compute the gradient orientation histogram\n",
    "def gradient_orientation_histogram(angle, bins=360):\n",
    "    histogram, bin_edges = np.histogram(angle, bins=bins, range=(0, 360))\n",
    "    return histogram\n",
    "\n",
    "# Fourier-based symmetry detection using the orientation histogram\n",
    "def detect_symmetry(histogram):\n",
    "    # Perform FFT on the histogram\n",
    "    hist_fft = fft(histogram)\n",
    "    \n",
    "    # Convolve the histogram with itself using inverse FFT of the squared FFT\n",
    "    convolution = ifft(hist_fft * np.conjugate(hist_fft)).real\n",
    "    \n",
    "    # Detect peaks in the convolution, which correspond to symmetry axes\n",
    "    peaks = np.where(convolution > np.percentile(convolution, 90))[0]\n",
    "    \n",
    "    return peaks, convolution\n",
    "\n",
    "# Function to visualize the symmetry axes on the original image\n",
    "def draw_symmetry_lines(image, peaks):\n",
    "    rows, cols = image.shape[:2]\n",
    "    center = (cols // 2, rows // 2)\n",
    "    \n",
    "    # Convert peak angles to radians for drawing lines\n",
    "    angles = np.deg2rad(peaks)\n",
    "    \n",
    "    # Draw symmetry axes\n",
    "    for angle in angles:\n",
    "        x = int(center[0] + np.cos(angle) * cols)\n",
    "        y = int(center[1] + np.sin(angle) * rows)\n",
    "        cv2.line(image, center, (x, y), (0, 255, 0), 2)\n",
    "    \n",
    "    return image\n",
    "\n",
    "# Main function to process the image and detect symmetry\n",
    "def symmetry_detection(image_path):\n",
    "    # Load the image\n",
    "    image = cv2.imread(image_path)\n",
    "    \n",
    "    # Step 1: Compute the gradient\n",
    "    magnitude, angle = compute_gradient(image)\n",
    "    \n",
    "    # Step 2: Obtain the gradient orientation histogram\n",
    "    histogram = gradient_orientation_histogram(angle)\n",
    "    \n",
    "    # Step 3: Detect symmetry using Fourier Transform\n",
    "    peaks, convolution = detect_symmetry(histogram)\n",
    "    \n",
    "    # Step 4: Draw the detected symmetry lines on the image\n",
    "    result_image = draw_symmetry_lines(image.copy(), peaks)\n",
    "    \n",
    "    # Plot the result\n",
    "    plt.figure(figsize=(10, 5))\n",
    "    \n",
    "    plt.subplot(1, 3, 1)\n",
    "    plt.imshow(cv2.cvtColor(image, cv2.COLOR_BGR2RGB))\n",
    "    plt.title(\"Original Image\")\n",
    "    \n",
    "    plt.subplot(1, 3, 2)\n",
    "    plt.plot(histogram)\n",
    "    plt.title(\"Gradient Orientation Histogram\")\n",
    "    \n",
    "    plt.subplot(1, 3, 3)\n",
    "    plt.plot(convolution)\n",
    "    plt.title(\"Convolution Peaks for Symmetry\")\n",
    "    \n",
    "    plt.show()\n",
    "    \n",
    "    # Show the image with detected symmetry lines\n",
    "    cv2.imshow(\"Symmetry Detected\", result_image)\n",
    "    cv2.waitKey(0)\n",
    "    cv2.destroyAllWindows()"
   ]
  }
 ],
 "metadata": {
  "kernelspec": {
   "display_name": "Python 3",
   "language": "python",
   "name": "python3"
  },
  "language_info": {
   "codemirror_mode": {
    "name": "ipython",
    "version": 3
   },
   "file_extension": ".py",
   "mimetype": "text/x-python",
   "name": "python",
   "nbconvert_exporter": "python",
   "pygments_lexer": "ipython3",
   "version": "3.11.9"
  }
 },
 "nbformat": 4,
 "nbformat_minor": 2
}
